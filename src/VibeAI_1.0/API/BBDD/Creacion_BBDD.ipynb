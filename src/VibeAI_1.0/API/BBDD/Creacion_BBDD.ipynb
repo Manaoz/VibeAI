{
 "cells": [
  {
   "cell_type": "markdown",
   "metadata": {},
   "source": [
    "# AWS - RDS MySQL\n",
    "### Paquetes requeridos\n",
    "Librería de Python necesaria para establecer conexión a una base de datos MySQL"
   ]
  },
  {
   "cell_type": "code",
   "execution_count": null,
   "metadata": {},
   "outputs": [],
   "source": [
    "#!pip install PyMySQL"
   ]
  },
  {
   "cell_type": "markdown",
   "metadata": {},
   "source": [
    "### Credenciales\n",
    "Para acceder a la BD necesitaremos tres datos:\n",
    "1. Endpoint/host: la dirección donde se encuentra el servidor\n",
    "2. Usuario\n",
    "3. Contraseña"
   ]
  },
  {
   "cell_type": "code",
   "execution_count": 1,
   "metadata": {},
   "outputs": [],
   "source": [
    "from getpass import getpass\n",
    "from mysql.connector import connect, Error\n",
    "\n",
    "def connectdb(host, user):\n",
    "    try:\n",
    "        # Si la conexion se da satisfactoriamente, tendremos\n",
    "        # un mensaje de éxito.\n",
    "        conn = connect(\n",
    "                        host=host,\n",
    "                        user=user,\n",
    "                        password=getpass(\"Enter password: \"))\n",
    "\n",
    "        print('SUCCESSFUL\\n\\n')\n",
    "        return conn \n",
    "\n",
    "\n",
    "    except Error as e:\n",
    "        # En caso de tener un error de conexión, lo mostramos\n",
    "        print(e)"
   ]
  },
  {
   "cell_type": "markdown",
   "metadata": {},
   "source": [
    "### Conexion BD"
   ]
  },
  {
   "cell_type": "code",
   "execution_count": 2,
   "metadata": {},
   "outputs": [],
   "source": [
    "host = 'dbmusic.cb2wgp0ktb7z.us-east-1.rds.amazonaws.com'\n",
    "user = 'admin'\n"
   ]
  },
  {
   "cell_type": "code",
   "execution_count": 3,
   "metadata": {},
   "outputs": [
    {
     "name": "stdout",
     "output_type": "stream",
     "text": [
      "SUCCESSFUL\n",
      "\n",
      "\n"
     ]
    }
   ],
   "source": [
    "conn = connectdb(host,user)"
   ]
  },
  {
   "cell_type": "markdown",
   "metadata": {},
   "source": [
    "### Creación de DB"
   ]
  },
  {
   "cell_type": "code",
   "execution_count": 57,
   "metadata": {},
   "outputs": [],
   "source": [
    "\n",
    "#MOSTRAR BASE DE DATOS EXISTENTE\n",
    "def showdb(cursor):\n",
    "    cursor.execute('SHOW DATABASES')\n",
    "    return cursor.fetchall()\n"
   ]
  },
  {
   "cell_type": "code",
   "execution_count": 58,
   "metadata": {},
   "outputs": [],
   "source": [
    "cursor = conn.cursor()"
   ]
  },
  {
   "cell_type": "code",
   "execution_count": 59,
   "metadata": {},
   "outputs": [
    {
     "data": {
      "text/plain": [
       "[('8.0.28',)]"
      ]
     },
     "execution_count": 59,
     "metadata": {},
     "output_type": "execute_result"
    }
   ],
   "source": [
    "cursor.execute('SELECT VERSION()')\n",
    "\n",
    "cursor.fetchall()"
   ]
  },
  {
   "cell_type": "markdown",
   "metadata": {},
   "source": [
    "### Creación de tablas"
   ]
  },
  {
   "cell_type": "code",
   "execution_count": 99,
   "metadata": {},
   "outputs": [],
   "source": [
    "#Creacion de BBDD y fijar utilizacion\n",
    "cursor.execute('DROP DATABASE IF EXISTS music_rec')\n",
    "cursor.execute('CREATE DATABASE music_rec')\n",
    "cursor.execute('USE music_rec')"
   ]
  },
  {
   "cell_type": "code",
   "execution_count": 100,
   "metadata": {},
   "outputs": [
    {
     "data": {
      "text/plain": [
       "[('information_schema',),\n",
       " ('music_rec',),\n",
       " ('mysql',),\n",
       " ('performance_schema',),\n",
       " ('sys',)]"
      ]
     },
     "execution_count": 100,
     "metadata": {},
     "output_type": "execute_result"
    }
   ],
   "source": [
    "showdb(cursor)"
   ]
  },
  {
   "cell_type": "code",
   "execution_count": 101,
   "metadata": {},
   "outputs": [],
   "source": [
    "#Creacion de tablas\n",
    "cursor.execute('DROP TABLE IF EXISTS usuarios')\n",
    "\n",
    "cursor.execute('CREATE TABLE usuarios (id INTEGER PRIMARY KEY AUTO_INCREMENT, usuario VARCHAR(120) NOT NULL)')\n"
   ]
  },
  {
   "cell_type": "code",
   "execution_count": 102,
   "metadata": {},
   "outputs": [],
   "source": [
    "cursor.execute('DROP TABLE IF EXISTS info_usuarios')\n",
    "cursor.execute('CREATE TABLE info_usuarios (id_user INTEGER NOT NULL AUTO_INCREMENT, edad INTEGER, sexo VARCHAR(120), ocupacion VARCHAR(120), FOREIGN KEY (id_user) REFERENCES usuarios(id))')"
   ]
  },
  {
   "cell_type": "code",
   "execution_count": 103,
   "metadata": {},
   "outputs": [],
   "source": [
    "cursor.execute('DROP TABLE IF EXISTS recomendaciones')\n",
    "cursor.execute('CREATE TABLE recomendaciones (id_user INTEGER NOT NULL, grupo1 VARCHAR(120), grupo2 VARCHAR(120), recomendacion1 VARCHAR(120), recomendacion2 VARCHAR(120), recomendacion3 VARCHAR(120),  opinion VARCHAR(120), FOREIGN KEY (id_user) REFERENCES usuarios(id) ON UPDATE CASCADE)')"
   ]
  },
  {
   "cell_type": "markdown",
   "metadata": {},
   "source": [
    "### Insertar datos"
   ]
  },
  {
   "cell_type": "code",
   "execution_count": 104,
   "metadata": {},
   "outputs": [],
   "source": [
    "def showtables(cursor):\n",
    "    cursor.execute('SHOW TABLES')\n",
    "    return cursor.fetchall()\n"
   ]
  },
  {
   "cell_type": "code",
   "execution_count": 105,
   "metadata": {},
   "outputs": [
    {
     "data": {
      "text/plain": [
       "[('info_usuarios',), ('recomendaciones',), ('usuarios',)]"
      ]
     },
     "execution_count": 105,
     "metadata": {},
     "output_type": "execute_result"
    }
   ],
   "source": [
    "showtables(cursor)"
   ]
  },
  {
   "cell_type": "code",
   "execution_count": 78,
   "metadata": {},
   "outputs": [],
   "source": [
    "\n",
    "cursor.execute('INSERT INTO usuarios (usuario) VALUES (\"Maria\")')\n",
    "conn.commit()\n"
   ]
  },
  {
   "cell_type": "code",
   "execution_count": 79,
   "metadata": {},
   "outputs": [
    {
     "data": {
      "text/plain": [
       "[(1, 'Maria')]"
      ]
     },
     "execution_count": 79,
     "metadata": {},
     "output_type": "execute_result"
    }
   ],
   "source": [
    "cursor.execute('SELECT * FROM usuarios')\n",
    "cursor.fetchall()"
   ]
  },
  {
   "cell_type": "code",
   "execution_count": 80,
   "metadata": {},
   "outputs": [],
   "source": [
    "cursor.execute('INSERT INTO info_usuarios (edad, sexo, ocupacion) VALUES (30, \"Femenino\", \"estudiante\")')\n",
    "conn.commit()"
   ]
  },
  {
   "cell_type": "code",
   "execution_count": 82,
   "metadata": {},
   "outputs": [
    {
     "data": {
      "text/plain": [
       "[(1, 30, 'Femenino', 'estudiante')]"
      ]
     },
     "execution_count": 82,
     "metadata": {},
     "output_type": "execute_result"
    }
   ],
   "source": [
    "cursor.execute('SELECT * FROM info_usuarios')\n",
    "cursor.fetchall()"
   ]
  },
  {
   "cell_type": "code",
   "execution_count": 97,
   "metadata": {},
   "outputs": [],
   "source": [
    "import json\n",
    "\n",
    "recomendacion = {'recomendacion1':{\"name\": \"Destiny's Child\",\n",
    "                                    \"uri\": \"spotify:artist:4tZwfgrHOc3mvqYlEYSvVi\",\n",
    "                                    \"similarity\": 46}, \n",
    "                    'recomendacion2':{ \"name\": \"Christina Aguilera\",\n",
    "                                    \"uri\": \"spotify:artist:1ry2Ys1hjL7vh8lkh3bJ2R\",\n",
    "                                    \"similarity\": 43},\n",
    "                    'recomendacion3' :\n",
    "{\n",
    "\"name\": \"Britney Spears\",\n",
    "\"uri\": \"spotify:artist:26dSoYclwsYLMAKD3tpOr4r\",\n",
    "\"similarity\": 41}\n",
    "}"
   ]
  },
  {
   "cell_type": "code",
   "execution_count": 98,
   "metadata": {},
   "outputs": [
    {
     "data": {
      "text/plain": [
       "dict"
      ]
     },
     "execution_count": 98,
     "metadata": {},
     "output_type": "execute_result"
    }
   ],
   "source": [
    "type(recomendacion)"
   ]
  },
  {
   "cell_type": "code",
   "execution_count": 91,
   "metadata": {},
   "outputs": [],
   "source": [
    "rec = json.dumps(recomendacion)"
   ]
  },
  {
   "cell_type": "code",
   "execution_count": 94,
   "metadata": {},
   "outputs": [
    {
     "data": {
      "text/plain": [
       "str"
      ]
     },
     "execution_count": 94,
     "metadata": {},
     "output_type": "execute_result"
    }
   ],
   "source": [
    "type(rec)"
   ]
  },
  {
   "cell_type": "code",
   "execution_count": null,
   "metadata": {},
   "outputs": [],
   "source": [
    "recomendacion = "
   ]
  },
  {
   "cell_type": "code",
   "execution_count": null,
   "metadata": {},
   "outputs": [],
   "source": [
    "userid = 1\n",
    "\n",
    "cursor.execute(f'INSERT INTO recomendaciones () VALUES ()')\n",
    "conn.commit()"
   ]
  }
 ],
 "metadata": {
  "kernelspec": {
   "display_name": "Python 3",
   "language": "python",
   "name": "python3"
  },
  "language_info": {
   "codemirror_mode": {
    "name": "ipython",
    "version": 3
   },
   "file_extension": ".py",
   "mimetype": "text/x-python",
   "name": "python",
   "nbconvert_exporter": "python",
   "pygments_lexer": "ipython3",
   "version": "3.10.7"
  },
  "vscode": {
   "interpreter": {
    "hash": "aee8b7b246df8f9039afb4144a1f6fd8d2ca17a180786b69acc140d282b71a49"
   }
  }
 },
 "nbformat": 4,
 "nbformat_minor": 4
}
