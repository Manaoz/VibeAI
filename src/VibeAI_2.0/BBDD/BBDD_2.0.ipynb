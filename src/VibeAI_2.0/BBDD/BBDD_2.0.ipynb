{
 "cells": [
  {
   "cell_type": "markdown",
   "metadata": {},
   "source": [
    "# AWS - RDS MySQL\n",
    "### Paquetes requeridos\n",
    "Librería de Python necesaria para establecer conexión a una base de datos MySQL"
   ]
  },
  {
   "cell_type": "code",
   "execution_count": null,
   "metadata": {},
   "outputs": [],
   "source": [
    "#!pip install PyMySQL"
   ]
  },
  {
   "cell_type": "markdown",
   "metadata": {},
   "source": [
    "### Credenciales\n",
    "Para acceder a la BD necesitaremos tres datos:\n",
    "1. Endpoint/host: la dirección donde se encuentra el servidor\n",
    "2. Usuario\n",
    "3. Contraseña"
   ]
  },
  {
   "cell_type": "code",
   "execution_count": 17,
   "metadata": {},
   "outputs": [],
   "source": [
    "from getpass import getpass\n",
    "from mysql.connector import connect, Error\n",
    "\n",
    "def connectdb(host, user):\n",
    "    try:\n",
    "        # Si la conexion se da satisfactoriamente, tendremos\n",
    "        # un mensaje de éxito.\n",
    "        conn = connect(\n",
    "                        host=host,\n",
    "                        user=user,\n",
    "                        password=getpass(\"Enter password: \"))\n",
    "\n",
    "        print('SUCCESSFUL\\n\\n')\n",
    "        return conn \n",
    "\n",
    "\n",
    "    except Error as e:\n",
    "        # En caso de tener un error de conexión, lo mostramos\n",
    "        print(e)"
   ]
  },
  {
   "cell_type": "markdown",
   "metadata": {},
   "source": [
    "### Conexion BD"
   ]
  },
  {
   "cell_type": "code",
   "execution_count": 18,
   "metadata": {},
   "outputs": [
    {
     "name": "stdout",
     "output_type": "stream",
     "text": [
      "SUCCESSFUL\n",
      "\n",
      "\n"
     ]
    }
   ],
   "source": [
    "host = 'dbmusic.cb2wgp0ktb7z.us-east-1.rds.amazonaws.com'\n",
    "user = 'admin'\n",
    "conn = connectdb(host,user)"
   ]
  },
  {
   "cell_type": "markdown",
   "metadata": {},
   "source": [
    "### Creación de DB"
   ]
  },
  {
   "cell_type": "code",
   "execution_count": 9,
   "metadata": {},
   "outputs": [],
   "source": [
    "\n",
    "#MOSTRAR BASE DE DATOS EXISTENTE\n",
    "def showdb(cursor):\n",
    "    cursor.execute('SHOW DATABASES')\n",
    "    return cursor.fetchall()\n"
   ]
  },
  {
   "cell_type": "code",
   "execution_count": 19,
   "metadata": {},
   "outputs": [],
   "source": [
    "cursor = conn.cursor()"
   ]
  },
  {
   "cell_type": "code",
   "execution_count": 11,
   "metadata": {},
   "outputs": [
    {
     "data": {
      "text/plain": [
       "[('8.0.28',)]"
      ]
     },
     "execution_count": 11,
     "metadata": {},
     "output_type": "execute_result"
    }
   ],
   "source": [
    "cursor.execute('SELECT VERSION()')\n",
    "\n",
    "cursor.fetchall()"
   ]
  },
  {
   "cell_type": "markdown",
   "metadata": {},
   "source": [
    "### Creación de tablas"
   ]
  },
  {
   "cell_type": "code",
   "execution_count": 20,
   "metadata": {},
   "outputs": [],
   "source": [
    "#Creacion de BBDD y fijar utilizacion\n",
    "cursor.execute('DROP DATABASE IF EXISTS music_rec')\n"
   ]
  },
  {
   "cell_type": "code",
   "execution_count": 21,
   "metadata": {},
   "outputs": [],
   "source": [
    "cursor.execute('CREATE DATABASE music_rec')\n",
    "cursor.execute('USE music_rec')"
   ]
  },
  {
   "cell_type": "code",
   "execution_count": null,
   "metadata": {},
   "outputs": [],
   "source": [
    "showdb(cursor)"
   ]
  },
  {
   "cell_type": "code",
   "execution_count": 22,
   "metadata": {},
   "outputs": [],
   "source": [
    "#Creacion de tablas\n",
    "cursor.execute('DROP TABLE IF EXISTS usuarios')\n",
    "\n",
    "cursor.execute('CREATE TABLE usuarios (id INTEGER PRIMARY KEY AUTO_INCREMENT, nombreusuario VARCHAR(120) NOT NULL)')\n"
   ]
  },
  {
   "cell_type": "code",
   "execution_count": 23,
   "metadata": {},
   "outputs": [],
   "source": [
    "cursor.execute('DROP TABLE IF EXISTS info_usuarios')\n",
    "\n",
    "\n",
    "cursor.execute('CREATE TABLE info_usuarios (id_user INTEGER NOT NULL AUTO_INCREMENT, edad INTEGER, sexo VARCHAR(120), ocupacion VARCHAR(120), FOREIGN KEY (id_user) REFERENCES usuarios(id))')\n"
   ]
  },
  {
   "cell_type": "code",
   "execution_count": 26,
   "metadata": {},
   "outputs": [],
   "source": [
    "cursor.execute('DROP TABLE IF EXISTS recomendaciones')\n",
    "cursor.execute('CREATE TABLE recomendaciones (id_user INTEGER NOT NULL  AUTO_INCREMENT, text VARCHAR(500), gender VARCHAR(50), ages_fwer VARCHAR(50), music VARCHAR(50), hobbie VARCHAR(80), language VARCHAR(50), recomendacion1 VARCHAR(120), recomendacion2 VARCHAR(120), recomendacion3 VARCHAR(120),opinion1 VARCHAR(80),opinion2 VARCHAR(80),opinion3 VARCHAR(80),FOREIGN KEY (id_user) REFERENCES usuarios(id) ON UPDATE CASCADE)')"
   ]
  },
  {
   "cell_type": "markdown",
   "metadata": {},
   "source": [
    "### Insertar datos"
   ]
  },
  {
   "cell_type": "code",
   "execution_count": null,
   "metadata": {},
   "outputs": [],
   "source": [
    "def showtables(cursor):\n",
    "    cursor.execute('SHOW TABLES')\n",
    "    return cursor.fetchall()\n"
   ]
  },
  {
   "attachments": {},
   "cell_type": "markdown",
   "metadata": {},
   "source": [
    "#### Mostramos por pantalla los nombres de las tablas \n",
    "- 'info_usuarios'\n",
    "- 'recomendaciones'\n",
    "- 'usuarios'"
   ]
  },
  {
   "cell_type": "code",
   "execution_count": null,
   "metadata": {},
   "outputs": [],
   "source": [
    "showtables(cursor)"
   ]
  },
  {
   "attachments": {},
   "cell_type": "markdown",
   "metadata": {},
   "source": [
    "#### Incorporamos valores (nombre) a la tabla 'usuarios'\n",
    "mostramos por pantalla toda la tabla usuarios para verificar que se inserta los valores"
   ]
  },
  {
   "cell_type": "code",
   "execution_count": 12,
   "metadata": {},
   "outputs": [],
   "source": [
    "user = \"Maria\""
   ]
  },
  {
   "cell_type": "code",
   "execution_count": 14,
   "metadata": {},
   "outputs": [],
   "source": [
    "\n",
    "cursor.execute('INSERT INTO usuarios (nombreusuario) VALUES (\"{user}\")')\n",
    "conn.commit()\n"
   ]
  },
  {
   "cell_type": "code",
   "execution_count": null,
   "metadata": {},
   "outputs": [],
   "source": [
    "cursor.execute('SELECT * FROM usuarios')\n",
    "cursor.fetchall()"
   ]
  },
  {
   "attachments": {},
   "cell_type": "markdown",
   "metadata": {},
   "source": [
    "#### Incorporamos valores (edad, sexo, ocupación) a la tabla 'info_usuarios'"
   ]
  },
  {
   "cell_type": "code",
   "execution_count": null,
   "metadata": {},
   "outputs": [],
   "source": [
    "cursor.execute('INSERT INTO info_usuarios (edad, sexo, ocupacion) VALUES (30, \"Femenino\", \"estudiante\")')\n",
    "conn.commit()"
   ]
  },
  {
   "cell_type": "code",
   "execution_count": null,
   "metadata": {},
   "outputs": [],
   "source": [
    "cursor.execute('SELECT * FROM info_usuarios')\n",
    "cursor.fetchall()"
   ]
  },
  {
   "attachments": {},
   "cell_type": "markdown",
   "metadata": {},
   "source": [
    "### Muestra de la entrada de valores"
   ]
  },
  {
   "cell_type": "code",
   "execution_count": null,
   "metadata": {},
   "outputs": [],
   "source": [
    "import json\n",
    "\n",
    "recomendacion = {\n",
    "                \"text\": \"Viajar, como casi todo en la vida, es mejor si se hace con amigos\",\n",
    "                \"gender\": \"All public\",\n",
    "                \"ages\": \"25-35\",\n",
    "                \"music\": \"Soul/Jazz/Blues\",\n",
    "                \"hobbie\": \"Travelling\",\n",
    "                \"language\": \"Spanish\",\n",
    "                \"song\": \"Disfruto,Carla Morrison\"\n",
    "                \n",
    "                }"
   ]
  },
  {
   "cell_type": "code",
   "execution_count": null,
   "metadata": {},
   "outputs": [],
   "source": [
    "text = recomendacion['text']\n",
    "gender = recomendacion['gender']\n",
    "ages = recomendacion['ages']\n",
    "music = recomendacion['music']\n",
    "hobbie = recomendacion['hobbie']\n",
    "language = recomendacion['language']\n",
    "song = recomendacion['song']"
   ]
  },
  {
   "attachments": {},
   "cell_type": "markdown",
   "metadata": {},
   "source": [
    "#### Insertamos los valores (text, gender, ages, music, hobbie, language, song) a la tabla 'recomendaciones'"
   ]
  },
  {
   "cell_type": "code",
   "execution_count": null,
   "metadata": {},
   "outputs": [],
   "source": [
    "def insert_recomendacion(text, gender, ages,music,hobbie,language,song):\n",
    "    cursor.execute('INSERT INTO recomendacion (text, gender, ages, music, hobbie, language, song) VALUES (%s,%s,%s,%s,%s,%s,%s)', (text, gender, ages,music,hobbie,language,song))\n",
    "    conn.commit()\n",
    "\n",
    "recomendacion = {\"text\": text, \"gender\": gender, \"ages\": ages, \"music\": music, \"hobbie\": hobbie, \"language\": language, \"song\": song}\n",
    "insert_recomendacion(**recomendacion)\n",
    "\n",
    "cursor.close()\n",
    "conn.close()"
   ]
  }
 ],
 "metadata": {
  "kernelspec": {
   "display_name": "Python 3",
   "language": "python",
   "name": "python3"
  },
  "language_info": {
   "codemirror_mode": {
    "name": "ipython",
    "version": 3
   },
   "file_extension": ".py",
   "mimetype": "text/x-python",
   "name": "python",
   "nbconvert_exporter": "python",
   "pygments_lexer": "ipython3",
   "version": "3.7.4"
  },
  "vscode": {
   "interpreter": {
    "hash": "51fa0a07f6fd5e060b837a66c96d41582ff23df34b38f2e72cb4e3ebfbe13406"
   }
  }
 },
 "nbformat": 4,
 "nbformat_minor": 4
}
